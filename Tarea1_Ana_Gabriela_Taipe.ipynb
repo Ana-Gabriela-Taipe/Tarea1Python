{
 "cells": [
  {
   "cell_type": "markdown",
   "id": "4d254de3-7497-46a1-bca9-ca6a60dabfd5",
   "metadata": {},
   "source": [
    "# Tarea 1"
   ]
  },
  {
   "cell_type": "code",
   "execution_count": 1,
   "id": "17ec43b3-e304-43f6-a489-51c4fd003a0c",
   "metadata": {},
   "outputs": [
    {
     "name": "stdout",
     "output_type": "stream",
     "text": [
      "Mi nombre es Ana Gabriela Taipe y mi edad es 28 años.\n"
     ]
    }
   ],
   "source": [
    "import pandas as pd\n",
    "\n",
    "nombre='Ana Gabriela Taipe'\n",
    "edad=28\n",
    "\n",
    "print('Mi nombre es', nombre, 'y mi edad es', edad, 'años.')"
   ]
  },
  {
   "cell_type": "code",
   "execution_count": null,
   "id": "104c81a2-0b55-4b7a-8d00-b61a725bc71a",
   "metadata": {},
   "outputs": [],
   "source": []
  }
 ],
 "metadata": {
  "kernelspec": {
   "display_name": "Python 3 (ipykernel)",
   "language": "python",
   "name": "python3"
  },
  "language_info": {
   "codemirror_mode": {
    "name": "ipython",
    "version": 3
   },
   "file_extension": ".py",
   "mimetype": "text/x-python",
   "name": "python",
   "nbconvert_exporter": "python",
   "pygments_lexer": "ipython3",
   "version": "3.11.5"
  }
 },
 "nbformat": 4,
 "nbformat_minor": 5
}
